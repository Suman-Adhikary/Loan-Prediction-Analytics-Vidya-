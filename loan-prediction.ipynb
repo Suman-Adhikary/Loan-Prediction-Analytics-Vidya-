{
 "cells": [
  {
   "cell_type": "code",
   "execution_count": 1,
   "id": "87705681",
   "metadata": {
    "execution": {
     "iopub.execute_input": "2023-05-11T17:29:22.136821Z",
     "iopub.status.busy": "2023-05-11T17:29:22.136187Z",
     "iopub.status.idle": "2023-05-11T17:29:22.160734Z",
     "shell.execute_reply": "2023-05-11T17:29:22.159503Z"
    },
    "papermill": {
     "duration": 0.049294,
     "end_time": "2023-05-11T17:29:22.163729",
     "exception": false,
     "start_time": "2023-05-11T17:29:22.114435",
     "status": "completed"
    },
    "tags": []
   },
   "outputs": [
    {
     "name": "stdout",
     "output_type": "stream",
     "text": [
      "/kaggle/input/loan-approval/sample_submission.csv\n",
      "/kaggle/input/loan-approval/Loan Approval.ipynb\n",
      "/kaggle/input/loan-approval/normalize.png\n",
      "/kaggle/input/loan-approval/uni_bi_analysis.png\n",
      "/kaggle/input/loan-approval/datatypes.png\n",
      "/kaggle/input/loan-approval/train.csv\n",
      "/kaggle/input/loan-approval/test.csv\n"
     ]
    }
   ],
   "source": [
    "# This Python 3 environment comes with many helpful analytics libraries installed\n",
    "# It is defined by the kaggle/python Docker image: https://github.com/kaggle/docker-python\n",
    "# For example, here's several helpful packages to load\n",
    "\n",
    "import numpy as np # linear algebra\n",
    "import pandas as pd # data processing, CSV file I/O (e.g. pd.read_csv)\n",
    "\n",
    "# Input data files are available in the read-only \"../input/\" directory\n",
    "# For example, running this (by clicking run or pressing Shift+Enter) will list all files under the input directory\n",
    "\n",
    "import os\n",
    "for dirname, _, filenames in os.walk('/kaggle/input'):\n",
    "    for filename in filenames:\n",
    "        print(os.path.join(dirname, filename))\n",
    "\n",
    "# You can write up to 20GB to the current directory (/kaggle/working/) that gets preserved as output when you create a version using \"Save & Run All\" \n",
    "# You can also write temporary files to /kaggle/temp/, but they won't be saved outside of the current session"
   ]
  },
  {
   "cell_type": "markdown",
   "id": "a9f8f719",
   "metadata": {
    "papermill": {
     "duration": 0.015171,
     "end_time": "2023-05-11T17:29:22.194874",
     "exception": false,
     "start_time": "2023-05-11T17:29:22.179703",
     "status": "completed"
    },
    "tags": []
   },
   "source": [
    "# Import Libraries."
   ]
  },
  {
   "cell_type": "code",
   "execution_count": 2,
   "id": "07d9804c",
   "metadata": {
    "execution": {
     "iopub.execute_input": "2023-05-11T17:29:22.228138Z",
     "iopub.status.busy": "2023-05-11T17:29:22.227663Z",
     "iopub.status.idle": "2023-05-11T17:29:24.950965Z",
     "shell.execute_reply": "2023-05-11T17:29:24.949282Z"
    },
    "id": "ZlBYWywP1kKV",
    "papermill": {
     "duration": 2.74373,
     "end_time": "2023-05-11T17:29:24.954128",
     "exception": false,
     "start_time": "2023-05-11T17:29:22.210398",
     "status": "completed"
    },
    "tags": []
   },
   "outputs": [
    {
     "name": "stderr",
     "output_type": "stream",
     "text": [
      "/opt/conda/lib/python3.10/site-packages/scipy/__init__.py:146: UserWarning: A NumPy version >=1.16.5 and <1.23.0 is required for this version of SciPy (detected version 1.23.5\n",
      "  warnings.warn(f\"A NumPy version >={np_minversion} and <{np_maxversion}\"\n"
     ]
    }
   ],
   "source": [
    "import pandas as pd\n",
    "import numpy as np\n",
    "from prettytable import PrettyTable\n",
    "import matplotlib.pyplot as plt\n",
    "import seaborn as sns\n",
    "from sklearn.impute import SimpleImputer\n",
    "from sklearn.linear_model import LogisticRegression\n",
    "from sklearn.preprocessing import MinMaxScaler\n",
    "from sklearn.preprocessing import StandardScaler\n",
    "from xgboost import XGBClassifier\n",
    "from sklearn.ensemble import RandomForestClassifier\n",
    "from sklearn.preprocessing import LabelEncoder\n",
    "from sklearn.model_selection import KFold, cross_val_score\n",
    "from sklearn.neighbors import KNeighborsClassifier\n",
    "from sklearn.metrics import mean_absolute_error\n",
    "import warnings\n",
    "warnings.filterwarnings(\"ignore\")"
   ]
  },
  {
   "cell_type": "markdown",
   "id": "c21ccc13",
   "metadata": {
    "id": "WwH-E6_L2Ix7",
    "papermill": {
     "duration": 0.015599,
     "end_time": "2023-05-11T17:29:24.986029",
     "exception": false,
     "start_time": "2023-05-11T17:29:24.970430",
     "status": "completed"
    },
    "tags": []
   },
   "source": [
    "# Data Processing."
   ]
  },
  {
   "cell_type": "code",
   "execution_count": 3,
   "id": "b03d4b26",
   "metadata": {
    "execution": {
     "iopub.execute_input": "2023-05-11T17:29:25.020702Z",
     "iopub.status.busy": "2023-05-11T17:29:25.020180Z",
     "iopub.status.idle": "2023-05-11T17:29:25.058037Z",
     "shell.execute_reply": "2023-05-11T17:29:25.056684Z"
    },
    "id": "TQKyB-Ws2H-a",
    "papermill": {
     "duration": 0.058667,
     "end_time": "2023-05-11T17:29:25.061124",
     "exception": false,
     "start_time": "2023-05-11T17:29:25.002457",
     "status": "completed"
    },
    "tags": []
   },
   "outputs": [],
   "source": [
    "train_data = pd.read_csv('/kaggle/input/loan-approval/train.csv')\n",
    "test_data = pd.read_csv('/kaggle/input/loan-approval/test.csv')"
   ]
  },
  {
   "cell_type": "code",
   "execution_count": 4,
   "id": "cc2e159d",
   "metadata": {
    "execution": {
     "iopub.execute_input": "2023-05-11T17:29:25.096828Z",
     "iopub.status.busy": "2023-05-11T17:29:25.096013Z",
     "iopub.status.idle": "2023-05-11T17:29:25.103875Z",
     "shell.execute_reply": "2023-05-11T17:29:25.102875Z"
    },
    "id": "YzvSgiLlS7RG",
    "outputId": "71c78a1c-945f-448a-b5c8-905a49e40178",
    "papermill": {
     "duration": 0.028454,
     "end_time": "2023-05-11T17:29:25.106203",
     "exception": false,
     "start_time": "2023-05-11T17:29:25.077749",
     "status": "completed"
    },
    "tags": []
   },
   "outputs": [
    {
     "data": {
      "text/plain": [
       "((614, 13), (367, 12))"
      ]
     },
     "execution_count": 4,
     "metadata": {},
     "output_type": "execute_result"
    }
   ],
   "source": [
    "train_data.shape, test_data.shape"
   ]
  },
  {
   "cell_type": "code",
   "execution_count": 5,
   "id": "e41a1272",
   "metadata": {
    "execution": {
     "iopub.execute_input": "2023-05-11T17:29:25.140896Z",
     "iopub.status.busy": "2023-05-11T17:29:25.140045Z",
     "iopub.status.idle": "2023-05-11T17:29:25.184838Z",
     "shell.execute_reply": "2023-05-11T17:29:25.183557Z"
    },
    "id": "qF7_QD3Kw-V6",
    "outputId": "a3604efb-af10-4f53-d2e2-a276a6d80b9e",
    "papermill": {
     "duration": 0.0655,
     "end_time": "2023-05-11T17:29:25.187580",
     "exception": false,
     "start_time": "2023-05-11T17:29:25.122080",
     "status": "completed"
    },
    "tags": []
   },
   "outputs": [
    {
     "data": {
      "text/html": [
       "<div>\n",
       "<style scoped>\n",
       "    .dataframe tbody tr th:only-of-type {\n",
       "        vertical-align: middle;\n",
       "    }\n",
       "\n",
       "    .dataframe tbody tr th {\n",
       "        vertical-align: top;\n",
       "    }\n",
       "\n",
       "    .dataframe thead th {\n",
       "        text-align: right;\n",
       "    }\n",
       "</style>\n",
       "<table border=\"1\" class=\"dataframe\">\n",
       "  <thead>\n",
       "    <tr style=\"text-align: right;\">\n",
       "      <th></th>\n",
       "      <th>Loan_ID</th>\n",
       "      <th>Gender</th>\n",
       "      <th>Married</th>\n",
       "      <th>Dependents</th>\n",
       "      <th>Education</th>\n",
       "      <th>Self_Employed</th>\n",
       "      <th>ApplicantIncome</th>\n",
       "      <th>CoapplicantIncome</th>\n",
       "      <th>LoanAmount</th>\n",
       "      <th>Loan_Amount_Term</th>\n",
       "      <th>Credit_History</th>\n",
       "      <th>Property_Area</th>\n",
       "      <th>Loan_Status</th>\n",
       "    </tr>\n",
       "  </thead>\n",
       "  <tbody>\n",
       "    <tr>\n",
       "      <th>0</th>\n",
       "      <td>LP001002</td>\n",
       "      <td>Male</td>\n",
       "      <td>No</td>\n",
       "      <td>0</td>\n",
       "      <td>Graduate</td>\n",
       "      <td>No</td>\n",
       "      <td>5849</td>\n",
       "      <td>0.0</td>\n",
       "      <td>NaN</td>\n",
       "      <td>360.0</td>\n",
       "      <td>1.0</td>\n",
       "      <td>Urban</td>\n",
       "      <td>Y</td>\n",
       "    </tr>\n",
       "    <tr>\n",
       "      <th>1</th>\n",
       "      <td>LP001003</td>\n",
       "      <td>Male</td>\n",
       "      <td>Yes</td>\n",
       "      <td>1</td>\n",
       "      <td>Graduate</td>\n",
       "      <td>No</td>\n",
       "      <td>4583</td>\n",
       "      <td>1508.0</td>\n",
       "      <td>128.0</td>\n",
       "      <td>360.0</td>\n",
       "      <td>1.0</td>\n",
       "      <td>Rural</td>\n",
       "      <td>N</td>\n",
       "    </tr>\n",
       "    <tr>\n",
       "      <th>2</th>\n",
       "      <td>LP001005</td>\n",
       "      <td>Male</td>\n",
       "      <td>Yes</td>\n",
       "      <td>0</td>\n",
       "      <td>Graduate</td>\n",
       "      <td>Yes</td>\n",
       "      <td>3000</td>\n",
       "      <td>0.0</td>\n",
       "      <td>66.0</td>\n",
       "      <td>360.0</td>\n",
       "      <td>1.0</td>\n",
       "      <td>Urban</td>\n",
       "      <td>Y</td>\n",
       "    </tr>\n",
       "    <tr>\n",
       "      <th>3</th>\n",
       "      <td>LP001006</td>\n",
       "      <td>Male</td>\n",
       "      <td>Yes</td>\n",
       "      <td>0</td>\n",
       "      <td>Not Graduate</td>\n",
       "      <td>No</td>\n",
       "      <td>2583</td>\n",
       "      <td>2358.0</td>\n",
       "      <td>120.0</td>\n",
       "      <td>360.0</td>\n",
       "      <td>1.0</td>\n",
       "      <td>Urban</td>\n",
       "      <td>Y</td>\n",
       "    </tr>\n",
       "    <tr>\n",
       "      <th>4</th>\n",
       "      <td>LP001008</td>\n",
       "      <td>Male</td>\n",
       "      <td>No</td>\n",
       "      <td>0</td>\n",
       "      <td>Graduate</td>\n",
       "      <td>No</td>\n",
       "      <td>6000</td>\n",
       "      <td>0.0</td>\n",
       "      <td>141.0</td>\n",
       "      <td>360.0</td>\n",
       "      <td>1.0</td>\n",
       "      <td>Urban</td>\n",
       "      <td>Y</td>\n",
       "    </tr>\n",
       "  </tbody>\n",
       "</table>\n",
       "</div>"
      ],
      "text/plain": [
       "    Loan_ID Gender Married Dependents     Education Self_Employed  \\\n",
       "0  LP001002   Male      No          0      Graduate            No   \n",
       "1  LP001003   Male     Yes          1      Graduate            No   \n",
       "2  LP001005   Male     Yes          0      Graduate           Yes   \n",
       "3  LP001006   Male     Yes          0  Not Graduate            No   \n",
       "4  LP001008   Male      No          0      Graduate            No   \n",
       "\n",
       "   ApplicantIncome  CoapplicantIncome  LoanAmount  Loan_Amount_Term  \\\n",
       "0             5849                0.0         NaN             360.0   \n",
       "1             4583             1508.0       128.0             360.0   \n",
       "2             3000                0.0        66.0             360.0   \n",
       "3             2583             2358.0       120.0             360.0   \n",
       "4             6000                0.0       141.0             360.0   \n",
       "\n",
       "   Credit_History Property_Area Loan_Status  \n",
       "0             1.0         Urban           Y  \n",
       "1             1.0         Rural           N  \n",
       "2             1.0         Urban           Y  \n",
       "3             1.0         Urban           Y  \n",
       "4             1.0         Urban           Y  "
      ]
     },
     "execution_count": 5,
     "metadata": {},
     "output_type": "execute_result"
    }
   ],
   "source": [
    "train_data.head()"
   ]
  },
  {
   "cell_type": "code",
   "execution_count": 6,
   "id": "b6338ee2",
   "metadata": {
    "execution": {
     "iopub.execute_input": "2023-05-11T17:29:25.222730Z",
     "iopub.status.busy": "2023-05-11T17:29:25.222200Z",
     "iopub.status.idle": "2023-05-11T17:29:25.230110Z",
     "shell.execute_reply": "2023-05-11T17:29:25.229149Z"
    },
    "id": "Izm65pAHFzbL",
    "outputId": "4ff8390e-8ceb-4df7-fe2e-6a4831c8d207",
    "papermill": {
     "duration": 0.028391,
     "end_time": "2023-05-11T17:29:25.232389",
     "exception": false,
     "start_time": "2023-05-11T17:29:25.203998",
     "status": "completed"
    },
    "tags": []
   },
   "outputs": [
    {
     "data": {
      "text/plain": [
       "((614, 13), (367, 12))"
      ]
     },
     "execution_count": 6,
     "metadata": {},
     "output_type": "execute_result"
    }
   ],
   "source": [
    "train_data.shape, test_data.shape"
   ]
  },
  {
   "cell_type": "code",
   "execution_count": 7,
   "id": "b0d895d9",
   "metadata": {
    "execution": {
     "iopub.execute_input": "2023-05-11T17:29:25.268464Z",
     "iopub.status.busy": "2023-05-11T17:29:25.267679Z",
     "iopub.status.idle": "2023-05-11T17:29:25.285126Z",
     "shell.execute_reply": "2023-05-11T17:29:25.283770Z"
    },
    "id": "vPWfV9r4Avnk",
    "papermill": {
     "duration": 0.039328,
     "end_time": "2023-05-11T17:29:25.288548",
     "exception": false,
     "start_time": "2023-05-11T17:29:25.249220",
     "status": "completed"
    },
    "tags": []
   },
   "outputs": [],
   "source": [
    "Loan_ID_train = train_data['Loan_ID']\n",
    "Loan_ID_test = test_data['Loan_ID']\n",
    "train_data = train_data.drop(['Loan_ID'], axis=1)\n",
    "test_data = test_data.drop('Loan_ID', axis=1)"
   ]
  },
  {
   "cell_type": "code",
   "execution_count": 8,
   "id": "450a3959",
   "metadata": {
    "execution": {
     "iopub.execute_input": "2023-05-11T17:29:25.323941Z",
     "iopub.status.busy": "2023-05-11T17:29:25.323155Z",
     "iopub.status.idle": "2023-05-11T17:29:25.331461Z",
     "shell.execute_reply": "2023-05-11T17:29:25.330610Z"
    },
    "id": "yzm16GTMFBYW",
    "papermill": {
     "duration": 0.028836,
     "end_time": "2023-05-11T17:29:25.333896",
     "exception": false,
     "start_time": "2023-05-11T17:29:25.305060",
     "status": "completed"
    },
    "tags": []
   },
   "outputs": [],
   "source": [
    "# Concat train and test data.\n",
    "X = pd.concat([train_data.iloc[:, 0:-1], test_data], axis = 0)\n",
    "y = train_data.iloc[:, -1]"
   ]
  },
  {
   "cell_type": "code",
   "execution_count": 9,
   "id": "61e36448",
   "metadata": {
    "execution": {
     "iopub.execute_input": "2023-05-11T17:29:25.369152Z",
     "iopub.status.busy": "2023-05-11T17:29:25.368286Z",
     "iopub.status.idle": "2023-05-11T17:29:25.387937Z",
     "shell.execute_reply": "2023-05-11T17:29:25.386579Z"
    },
    "id": "58sglmA9FdPp",
    "outputId": "22d5ec10-30bc-49be-c5dc-758cac482294",
    "papermill": {
     "duration": 0.040369,
     "end_time": "2023-05-11T17:29:25.390496",
     "exception": false,
     "start_time": "2023-05-11T17:29:25.350127",
     "status": "completed"
    },
    "tags": []
   },
   "outputs": [
    {
     "data": {
      "text/html": [
       "<div>\n",
       "<style scoped>\n",
       "    .dataframe tbody tr th:only-of-type {\n",
       "        vertical-align: middle;\n",
       "    }\n",
       "\n",
       "    .dataframe tbody tr th {\n",
       "        vertical-align: top;\n",
       "    }\n",
       "\n",
       "    .dataframe thead th {\n",
       "        text-align: right;\n",
       "    }\n",
       "</style>\n",
       "<table border=\"1\" class=\"dataframe\">\n",
       "  <thead>\n",
       "    <tr style=\"text-align: right;\">\n",
       "      <th></th>\n",
       "      <th>Gender</th>\n",
       "      <th>Married</th>\n",
       "      <th>Dependents</th>\n",
       "      <th>Education</th>\n",
       "      <th>Self_Employed</th>\n",
       "      <th>ApplicantIncome</th>\n",
       "      <th>CoapplicantIncome</th>\n",
       "      <th>LoanAmount</th>\n",
       "      <th>Loan_Amount_Term</th>\n",
       "      <th>Credit_History</th>\n",
       "      <th>Property_Area</th>\n",
       "    </tr>\n",
       "  </thead>\n",
       "  <tbody>\n",
       "    <tr>\n",
       "      <th>0</th>\n",
       "      <td>Male</td>\n",
       "      <td>No</td>\n",
       "      <td>0</td>\n",
       "      <td>Graduate</td>\n",
       "      <td>No</td>\n",
       "      <td>5849</td>\n",
       "      <td>0.0</td>\n",
       "      <td>NaN</td>\n",
       "      <td>360.0</td>\n",
       "      <td>1.0</td>\n",
       "      <td>Urban</td>\n",
       "    </tr>\n",
       "    <tr>\n",
       "      <th>1</th>\n",
       "      <td>Male</td>\n",
       "      <td>Yes</td>\n",
       "      <td>1</td>\n",
       "      <td>Graduate</td>\n",
       "      <td>No</td>\n",
       "      <td>4583</td>\n",
       "      <td>1508.0</td>\n",
       "      <td>128.0</td>\n",
       "      <td>360.0</td>\n",
       "      <td>1.0</td>\n",
       "      <td>Rural</td>\n",
       "    </tr>\n",
       "    <tr>\n",
       "      <th>2</th>\n",
       "      <td>Male</td>\n",
       "      <td>Yes</td>\n",
       "      <td>0</td>\n",
       "      <td>Graduate</td>\n",
       "      <td>Yes</td>\n",
       "      <td>3000</td>\n",
       "      <td>0.0</td>\n",
       "      <td>66.0</td>\n",
       "      <td>360.0</td>\n",
       "      <td>1.0</td>\n",
       "      <td>Urban</td>\n",
       "    </tr>\n",
       "    <tr>\n",
       "      <th>3</th>\n",
       "      <td>Male</td>\n",
       "      <td>Yes</td>\n",
       "      <td>0</td>\n",
       "      <td>Not Graduate</td>\n",
       "      <td>No</td>\n",
       "      <td>2583</td>\n",
       "      <td>2358.0</td>\n",
       "      <td>120.0</td>\n",
       "      <td>360.0</td>\n",
       "      <td>1.0</td>\n",
       "      <td>Urban</td>\n",
       "    </tr>\n",
       "    <tr>\n",
       "      <th>4</th>\n",
       "      <td>Male</td>\n",
       "      <td>No</td>\n",
       "      <td>0</td>\n",
       "      <td>Graduate</td>\n",
       "      <td>No</td>\n",
       "      <td>6000</td>\n",
       "      <td>0.0</td>\n",
       "      <td>141.0</td>\n",
       "      <td>360.0</td>\n",
       "      <td>1.0</td>\n",
       "      <td>Urban</td>\n",
       "    </tr>\n",
       "  </tbody>\n",
       "</table>\n",
       "</div>"
      ],
      "text/plain": [
       "  Gender Married Dependents     Education Self_Employed  ApplicantIncome  \\\n",
       "0   Male      No          0      Graduate            No             5849   \n",
       "1   Male     Yes          1      Graduate            No             4583   \n",
       "2   Male     Yes          0      Graduate           Yes             3000   \n",
       "3   Male     Yes          0  Not Graduate            No             2583   \n",
       "4   Male      No          0      Graduate            No             6000   \n",
       "\n",
       "   CoapplicantIncome  LoanAmount  Loan_Amount_Term  Credit_History  \\\n",
       "0                0.0         NaN             360.0             1.0   \n",
       "1             1508.0       128.0             360.0             1.0   \n",
       "2                0.0        66.0             360.0             1.0   \n",
       "3             2358.0       120.0             360.0             1.0   \n",
       "4                0.0       141.0             360.0             1.0   \n",
       "\n",
       "  Property_Area  \n",
       "0         Urban  \n",
       "1         Rural  \n",
       "2         Urban  \n",
       "3         Urban  \n",
       "4         Urban  "
      ]
     },
     "execution_count": 9,
     "metadata": {},
     "output_type": "execute_result"
    }
   ],
   "source": [
    "X.head()"
   ]
  },
  {
   "cell_type": "code",
   "execution_count": 10,
   "id": "dc2e31f9",
   "metadata": {
    "execution": {
     "iopub.execute_input": "2023-05-11T17:29:25.426422Z",
     "iopub.status.busy": "2023-05-11T17:29:25.425712Z",
     "iopub.status.idle": "2023-05-11T17:29:25.431891Z",
     "shell.execute_reply": "2023-05-11T17:29:25.430855Z"
    },
    "id": "xvdkAr5cFt3U",
    "outputId": "d5ae4015-ee0c-4e52-8331-4495e46b3e1d",
    "papermill": {
     "duration": 0.026809,
     "end_time": "2023-05-11T17:29:25.433999",
     "exception": false,
     "start_time": "2023-05-11T17:29:25.407190",
     "status": "completed"
    },
    "tags": []
   },
   "outputs": [
    {
     "data": {
      "text/plain": [
       "(981, 11)"
      ]
     },
     "execution_count": 10,
     "metadata": {},
     "output_type": "execute_result"
    }
   ],
   "source": [
    "X.shape"
   ]
  },
  {
   "cell_type": "code",
   "execution_count": 11,
   "id": "d5410a36",
   "metadata": {
    "execution": {
     "iopub.execute_input": "2023-05-11T17:29:25.470081Z",
     "iopub.status.busy": "2023-05-11T17:29:25.469218Z",
     "iopub.status.idle": "2023-05-11T17:29:25.477762Z",
     "shell.execute_reply": "2023-05-11T17:29:25.476622Z"
    },
    "id": "s0m9mOVVF5yo",
    "outputId": "c625c5f1-8e8b-433d-8beb-f378c01bd042",
    "papermill": {
     "duration": 0.029653,
     "end_time": "2023-05-11T17:29:25.480250",
     "exception": false,
     "start_time": "2023-05-11T17:29:25.450597",
     "status": "completed"
    },
    "tags": []
   },
   "outputs": [
    {
     "data": {
      "text/plain": [
       "<bound method NDFrame.head of 0      Y\n",
       "1      N\n",
       "2      Y\n",
       "3      Y\n",
       "4      Y\n",
       "      ..\n",
       "609    Y\n",
       "610    Y\n",
       "611    Y\n",
       "612    Y\n",
       "613    N\n",
       "Name: Loan_Status, Length: 614, dtype: object>"
      ]
     },
     "execution_count": 11,
     "metadata": {},
     "output_type": "execute_result"
    }
   ],
   "source": [
    "y.head"
   ]
  },
  {
   "cell_type": "code",
   "execution_count": 12,
   "id": "f2860d67",
   "metadata": {
    "execution": {
     "iopub.execute_input": "2023-05-11T17:29:25.516852Z",
     "iopub.status.busy": "2023-05-11T17:29:25.516310Z",
     "iopub.status.idle": "2023-05-11T17:29:25.523711Z",
     "shell.execute_reply": "2023-05-11T17:29:25.522598Z"
    },
    "id": "2DKvjFFgGBOZ",
    "outputId": "5a4665b9-1bb7-4042-aea4-27077c87a913",
    "papermill": {
     "duration": 0.028474,
     "end_time": "2023-05-11T17:29:25.526161",
     "exception": false,
     "start_time": "2023-05-11T17:29:25.497687",
     "status": "completed"
    },
    "tags": []
   },
   "outputs": [
    {
     "data": {
      "text/plain": [
       "(614,)"
      ]
     },
     "execution_count": 12,
     "metadata": {},
     "output_type": "execute_result"
    }
   ],
   "source": [
    "y.shape"
   ]
  },
  {
   "cell_type": "code",
   "execution_count": 13,
   "id": "76b6b7ea",
   "metadata": {
    "execution": {
     "iopub.execute_input": "2023-05-11T17:29:25.563229Z",
     "iopub.status.busy": "2023-05-11T17:29:25.562689Z",
     "iopub.status.idle": "2023-05-11T17:29:25.594942Z",
     "shell.execute_reply": "2023-05-11T17:29:25.593444Z"
    },
    "id": "R0KJ5s5FHA0G",
    "outputId": "4281a90a-72b7-4c47-d217-f26b658b0e4c",
    "papermill": {
     "duration": 0.055118,
     "end_time": "2023-05-11T17:29:25.598234",
     "exception": false,
     "start_time": "2023-05-11T17:29:25.543116",
     "status": "completed"
    },
    "tags": []
   },
   "outputs": [
    {
     "name": "stdout",
     "output_type": "stream",
     "text": [
      "<class 'pandas.core.frame.DataFrame'>\n",
      "Int64Index: 981 entries, 0 to 366\n",
      "Data columns (total 11 columns):\n",
      " #   Column             Non-Null Count  Dtype  \n",
      "---  ------             --------------  -----  \n",
      " 0   Gender             957 non-null    object \n",
      " 1   Married            978 non-null    object \n",
      " 2   Dependents         956 non-null    object \n",
      " 3   Education          981 non-null    object \n",
      " 4   Self_Employed      926 non-null    object \n",
      " 5   ApplicantIncome    981 non-null    int64  \n",
      " 6   CoapplicantIncome  981 non-null    float64\n",
      " 7   LoanAmount         954 non-null    float64\n",
      " 8   Loan_Amount_Term   961 non-null    float64\n",
      " 9   Credit_History     902 non-null    float64\n",
      " 10  Property_Area      981 non-null    object \n",
      "dtypes: float64(4), int64(1), object(6)\n",
      "memory usage: 92.0+ KB\n"
     ]
    }
   ],
   "source": [
    "X.info()"
   ]
  },
  {
   "cell_type": "markdown",
   "id": "275e7bf5",
   "metadata": {
    "id": "8C5e2DOwGPIK",
    "papermill": {
     "duration": 0.017009,
     "end_time": "2023-05-11T17:29:25.632828",
     "exception": false,
     "start_time": "2023-05-11T17:29:25.615819",
     "status": "completed"
    },
    "tags": []
   },
   "source": [
    "# Data Handling"
   ]
  },
  {
   "cell_type": "markdown",
   "id": "4f433ca4",
   "metadata": {
    "id": "i_06G1bWGaWk",
    "papermill": {
     "duration": 0.016995,
     "end_time": "2023-05-11T17:29:25.667201",
     "exception": false,
     "start_time": "2023-05-11T17:29:25.650206",
     "status": "completed"
    },
    "tags": []
   },
   "source": [
    "## Missing value, Number of Missing and it's percentage, Data type."
   ]
  },
  {
   "cell_type": "code",
   "execution_count": 14,
   "id": "57a6bea3",
   "metadata": {
    "execution": {
     "iopub.execute_input": "2023-05-11T17:29:25.707097Z",
     "iopub.status.busy": "2023-05-11T17:29:25.705958Z",
     "iopub.status.idle": "2023-05-11T17:29:25.729603Z",
     "shell.execute_reply": "2023-05-11T17:29:25.728527Z"
    },
    "id": "1sFXNY1DGYFK",
    "papermill": {
     "duration": 0.046268,
     "end_time": "2023-05-11T17:29:25.732508",
     "exception": false,
     "start_time": "2023-05-11T17:29:25.686240",
     "status": "completed"
    },
    "tags": []
   },
   "outputs": [],
   "source": [
    "Col = [col for col in X.columns if X[col].isna().sum() > 0]\n",
    "Missing_value = [X[col].isna().sum() for col in X.columns if X[col].isna().sum() > 0]\n",
    "Percentage_missing = [round(X[col].isna().sum() / len(X[col]) * 100, 2) for col in X.columns if X[col].isna().sum() > 0]\n",
    "Datatype = [X[col].dtypes for col in X.columns if X[col].isna().sum() > 0]"
   ]
  },
  {
   "cell_type": "code",
   "execution_count": 15,
   "id": "65765ffc",
   "metadata": {
    "execution": {
     "iopub.execute_input": "2023-05-11T17:29:25.769636Z",
     "iopub.status.busy": "2023-05-11T17:29:25.769086Z",
     "iopub.status.idle": "2023-05-11T17:29:25.778649Z",
     "shell.execute_reply": "2023-05-11T17:29:25.777432Z"
    },
    "id": "JT39xtcNH0kl",
    "outputId": "02a945c8-453c-4e0a-8a02-b56a54bbf40e",
    "papermill": {
     "duration": 0.031746,
     "end_time": "2023-05-11T17:29:25.781689",
     "exception": false,
     "start_time": "2023-05-11T17:29:25.749943",
     "status": "completed"
    },
    "tags": []
   },
   "outputs": [
    {
     "name": "stdout",
     "output_type": "stream",
     "text": [
      "+------------------+---------------+-----------------------+-----------+\n",
      "|   Column Name    | No of missing | Percentage of missing | Data Type |\n",
      "+------------------+---------------+-----------------------+-----------+\n",
      "|      Gender      |       24      |          2.45         |   object  |\n",
      "|     Married      |       3       |          0.31         |   object  |\n",
      "|    Dependents    |       25      |          2.55         |   object  |\n",
      "|  Self_Employed   |       55      |          5.61         |   object  |\n",
      "|    LoanAmount    |       27      |          2.75         |  float64  |\n",
      "| Loan_Amount_Term |       20      |          2.04         |  float64  |\n",
      "|  Credit_History  |       79      |          8.05         |  float64  |\n",
      "+------------------+---------------+-----------------------+-----------+\n"
     ]
    }
   ],
   "source": [
    "myTable = PrettyTable()\n",
    "myTable.add_column(\"Column Name\", Col)\n",
    "myTable.add_column(\"No of missing\", Missing_value)\n",
    "myTable.add_column(\"Percentage of missing\", Percentage_missing)\n",
    "myTable.add_column(\"Data Type\", Datatype)\n",
    "print(myTable)"
   ]
  },
  {
   "cell_type": "markdown",
   "id": "fa367413",
   "metadata": {
    "id": "btLMXFtHr32b",
    "papermill": {
     "duration": 0.017102,
     "end_time": "2023-05-11T17:29:25.816365",
     "exception": false,
     "start_time": "2023-05-11T17:29:25.799263",
     "status": "completed"
    },
    "tags": []
   },
   "source": [
    "## Correlation plot."
   ]
  },
  {
   "cell_type": "code",
   "execution_count": 16,
   "id": "91847c8b",
   "metadata": {
    "execution": {
     "iopub.execute_input": "2023-05-11T17:29:25.854288Z",
     "iopub.status.busy": "2023-05-11T17:29:25.852980Z",
     "iopub.status.idle": "2023-05-11T17:29:26.305846Z",
     "shell.execute_reply": "2023-05-11T17:29:26.304616Z"
    },
    "id": "O4dGoVSIr6I4",
    "outputId": "a5dff050-47f9-48f7-863e-a1e1c1684c55",
    "papermill": {
     "duration": 0.475385,
     "end_time": "2023-05-11T17:29:26.309267",
     "exception": false,
     "start_time": "2023-05-11T17:29:25.833882",
     "status": "completed"
    },
    "tags": []
   },
   "outputs": [
    {
     "data": {
      "image/png": "[encoded data removed]",
      "text/plain": [
       "<Figure size 500x400 with 2 Axes>"
      ]
     },
     "metadata": {},
     "output_type": "display_data"
    }
   ],
   "source": [
    "corr_mat = X.corr()\n",
    "\n",
    "# Select correlations greater than 0.5\n",
    "high_corr_mat = corr_mat[abs(corr_mat) >= 0.5]\n",
    "\n",
    "# Plot correlation heatmap\n",
    "plt.figure(figsize=(5,4))\n",
    "sns.heatmap(high_corr_mat,\n",
    "            annot=True,\n",
    "            fmt='.1f',\n",
    "            cmap='seismic',\n",
    "            vmin=0.5,\n",
    "            vmax=1)\n",
    "title = plt.title('Correlation Heatmap')"
   ]
  },
  {
   "cell_type": "markdown",
   "id": "2e809eb3",
   "metadata": {
    "id": "bmMFs9XppTQa",
    "papermill": {
     "duration": 0.017405,
     "end_time": "2023-05-11T17:29:26.345433",
     "exception": false,
     "start_time": "2023-05-11T17:29:26.328028",
     "status": "completed"
    },
    "tags": []
   },
   "source": [
    "## Handling the missing value."
   ]
  },
  {
   "cell_type": "markdown",
   "id": "68d4e410",
   "metadata": {
    "id": "J8y9NK6dpZut",
    "papermill": {
     "duration": 0.017428,
     "end_time": "2023-05-11T17:29:26.380879",
     "exception": false,
     "start_time": "2023-05-11T17:29:26.363451",
     "status": "completed"
    },
    "tags": []
   },
   "source": [
    "### Numeric data."
   ]
  },
  {
   "cell_type": "code",
   "execution_count": 17,
   "id": "0c48a860",
   "metadata": {
    "execution": {
     "iopub.execute_input": "2023-05-11T17:29:26.419858Z",
     "iopub.status.busy": "2023-05-11T17:29:26.419300Z",
     "iopub.status.idle": "2023-05-11T17:29:27.246599Z",
     "shell.execute_reply": "2023-05-11T17:29:27.245156Z"
    },
    "id": "h-b4pso3Ii4Q",
    "outputId": "c3285d14-ead5-4d85-e2f1-392d5af2dab0",
    "papermill": {
     "duration": 0.850458,
     "end_time": "2023-05-11T17:29:27.249634",
     "exception": false,
     "start_time": "2023-05-11T17:29:26.399176",
     "status": "completed"
    },
    "tags": []
   },
   "outputs": [
    {
     "data": {
      "image/png": "[encoded data removed]",
      "text/plain": [
       "<Figure size 1600x400 with 3 Axes>"
      ]
     },
     "metadata": {},
     "output_type": "display_data"
    }
   ],
   "source": [
    "numeric_col = [col for col in X.columns if X[col].dtypes == 'float64' and X[col].isna().sum() > 0]\n",
    "fig, axs = plt.subplots(1, 3, figsize=(16, 4), squeeze=False)\n",
    "Color = ['black', '#9ebcda', '#2ca25f']\n",
    "\n",
    "Axis = []\n",
    "for j in range(1):\n",
    "    for k in range(3):\n",
    "        Axis.append(axs[j, k])\n",
    "\n",
    "for i in range(len(numeric_col)):\n",
    "    sns.histplot(X[numeric_col[i]], kde=True, color=Color[i], ax=Axis[i])\n",
    "    Axis[i].set_ylabel('No of missing value')\n",
    "\n",
    "for ax in axs.flat:\n",
    "        if not bool(ax.has_data()):\n",
    "            fig.delaxes(ax)\n",
    "    \n",
    "fig.suptitle(\"Distribution of missing value\", fontsize=15)\n",
    "plt.show()"
   ]
  },
  {
   "cell_type": "code",
   "execution_count": 18,
   "id": "cb4ceed8",
   "metadata": {
    "execution": {
     "iopub.execute_input": "2023-05-11T17:29:27.291931Z",
     "iopub.status.busy": "2023-05-11T17:29:27.291392Z",
     "iopub.status.idle": "2023-05-11T17:29:27.307101Z",
     "shell.execute_reply": "2023-05-11T17:29:27.305944Z"
    },
    "id": "Yg-TXlW7yJ4g",
    "papermill": {
     "duration": 0.040191,
     "end_time": "2023-05-11T17:29:27.309863",
     "exception": false,
     "start_time": "2023-05-11T17:29:27.269672",
     "status": "completed"
    },
    "tags": []
   },
   "outputs": [],
   "source": [
    "numeric_imputer = SimpleImputer(missing_values=np.nan, strategy='median')\n",
    "numeric_imputer.fit(X[['LoanAmount', 'Loan_Amount_Term', 'Credit_History']])\n",
    "X[['LoanAmount', 'Loan_Amount_Term', 'Credit_History']] = numeric_imputer.transform(X[['LoanAmount', 'Loan_Amount_Term', 'Credit_History']])"
   ]
  },
  {
   "cell_type": "code",
   "execution_count": 19,
   "id": "e6b48984",
   "metadata": {
    "execution": {
     "iopub.execute_input": "2023-05-11T17:29:27.351493Z",
     "iopub.status.busy": "2023-05-11T17:29:27.350480Z",
     "iopub.status.idle": "2023-05-11T17:29:27.366164Z",
     "shell.execute_reply": "2023-05-11T17:29:27.364978Z"
    },
    "id": "kOa6Vv40zMO2",
    "papermill": {
     "duration": 0.040375,
     "end_time": "2023-05-11T17:29:27.369181",
     "exception": false,
     "start_time": "2023-05-11T17:29:27.328806",
     "status": "completed"
    },
    "tags": []
   },
   "outputs": [],
   "source": [
    "numeric_imputer = SimpleImputer(missing_values=np.nan, strategy='most_frequent')\n",
    "numeric_imputer.fit(X[['Gender', 'Married', 'Dependents', 'Self_Employed']])\n",
    "X[['Gender', 'Married', 'Dependents', 'Self_Employed']] = numeric_imputer.transform(X[['Gender', 'Married', 'Dependents', 'Self_Employed']])"
   ]
  },
  {
   "cell_type": "code",
   "execution_count": 20,
   "id": "1cfbe44e",
   "metadata": {
    "execution": {
     "iopub.execute_input": "2023-05-11T17:29:27.410920Z",
     "iopub.status.busy": "2023-05-11T17:29:27.409897Z",
     "iopub.status.idle": "2023-05-11T17:29:27.423273Z",
     "shell.execute_reply": "2023-05-11T17:29:27.421733Z"
    },
    "id": "FgE8bdAi3p8M",
    "outputId": "254bafdc-bdda-49ad-b74e-9af4e93007d1",
    "papermill": {
     "duration": 0.038119,
     "end_time": "2023-05-11T17:29:27.426507",
     "exception": false,
     "start_time": "2023-05-11T17:29:27.388388",
     "status": "completed"
    },
    "tags": []
   },
   "outputs": [
    {
     "data": {
      "text/plain": [
       "0"
      ]
     },
     "execution_count": 20,
     "metadata": {},
     "output_type": "execute_result"
    }
   ],
   "source": [
    "X.isna().sum().sum()"
   ]
  },
  {
   "cell_type": "markdown",
   "id": "b2f3c7e1",
   "metadata": {
    "id": "rA5JGWMQtznl",
    "papermill": {
     "duration": 0.019047,
     "end_time": "2023-05-11T17:29:27.465400",
     "exception": false,
     "start_time": "2023-05-11T17:29:27.446353",
     "status": "completed"
    },
    "tags": []
   },
   "source": [
    "# Relation between ApplicantIncome and LoanAmount."
   ]
  },
  {
   "cell_type": "markdown",
   "id": "4e09e9d4",
   "metadata": {
    "id": "99HmAJei6cBR",
    "papermill": {
     "duration": 0.018727,
     "end_time": "2023-05-11T17:29:27.503223",
     "exception": false,
     "start_time": "2023-05-11T17:29:27.484496",
     "status": "completed"
    },
    "tags": []
   },
   "source": [
    "## Outlier."
   ]
  },
  {
   "cell_type": "code",
   "execution_count": 21,
   "id": "54d8b6ab",
   "metadata": {
    "execution": {
     "iopub.execute_input": "2023-05-11T17:29:27.544832Z",
     "iopub.status.busy": "2023-05-11T17:29:27.544292Z",
     "iopub.status.idle": "2023-05-11T17:29:28.067290Z",
     "shell.execute_reply": "2023-05-11T17:29:28.065900Z"
    },
    "id": "PbSeMMI2tr-l",
    "outputId": "400af80b-c7f1-4997-f9b6-b2eab9852b66",
    "papermill": {
     "duration": 0.548084,
     "end_time": "2023-05-11T17:29:28.070519",
     "exception": false,
     "start_time": "2023-05-11T17:29:27.522435",
     "status": "completed"
    },
    "tags": []
   },
   "outputs": [
    {
     "data": {
      "image/png": "[encoded data removed]",
      "text/plain": [
       "<Figure size 800x600 with 1 Axes>"
      ]
     },
     "metadata": {},
     "output_type": "display_data"
    }
   ],
   "source": [
    "sns.set_style('darkgrid')\n",
    "plt.figure(figsize=(8, 6))\n",
    "sns.scatterplot(x='LoanAmount', y='ApplicantIncome', data=X)\n",
    "title = plt.title('Loan Amount Vs Applicant Income')"
   ]
  },
  {
   "cell_type": "markdown",
   "id": "eafcec77",
   "metadata": {
    "id": "QxLtKRal6V5q",
    "papermill": {
     "duration": 0.020767,
     "end_time": "2023-05-11T17:29:28.114456",
     "exception": false,
     "start_time": "2023-05-11T17:29:28.093689",
     "status": "completed"
    },
    "tags": []
   },
   "source": []
  },
  {
   "cell_type": "code",
   "execution_count": 22,
   "id": "7c76c3fd",
   "metadata": {
    "execution": {
     "iopub.execute_input": "2023-05-11T17:29:28.158855Z",
     "iopub.status.busy": "2023-05-11T17:29:28.158335Z",
     "iopub.status.idle": "2023-05-11T17:29:28.171933Z",
     "shell.execute_reply": "2023-05-11T17:29:28.170608Z"
    },
    "id": "F5Jn8MPOuibI",
    "papermill": {
     "duration": 0.039628,
     "end_time": "2023-05-11T17:29:28.175548",
     "exception": false,
     "start_time": "2023-05-11T17:29:28.135920",
     "status": "completed"
    },
    "tags": []
   },
   "outputs": [],
   "source": [
    "outlier_index = X[(X['LoanAmount'] > 520)\n",
    "                           & (X['ApplicantIncome'] > 25000)].index\n",
    "X.drop(outlier_index, axis=0, inplace=True)\n",
    "y.drop(outlier_index, axis=0, inplace=True)"
   ]
  },
  {
   "cell_type": "code",
   "execution_count": 23,
   "id": "65c18b46",
   "metadata": {
    "execution": {
     "iopub.execute_input": "2023-05-11T17:29:28.217923Z",
     "iopub.status.busy": "2023-05-11T17:29:28.217413Z",
     "iopub.status.idle": "2023-05-11T17:29:28.225355Z",
     "shell.execute_reply": "2023-05-11T17:29:28.224443Z"
    },
    "id": "ysNU9QkQwRjd",
    "outputId": "6e047fa8-894f-4e54-d37f-5e596b1ab61c",
    "papermill": {
     "duration": 0.03195,
     "end_time": "2023-05-11T17:29:28.227688",
     "exception": false,
     "start_time": "2023-05-11T17:29:28.195738",
     "status": "completed"
    },
    "tags": []
   },
   "outputs": [
    {
     "data": {
      "text/plain": [
       "((975, 11), (611,))"
      ]
     },
     "execution_count": 23,
     "metadata": {},
     "output_type": "execute_result"
    }
   ],
   "source": [
    "X.shape, y.shape"
   ]
  },
  {
   "cell_type": "markdown",
   "id": "b19c487b",
   "metadata": {
    "id": "gRwteQbd6UkJ",
    "papermill": {
     "duration": 0.020064,
     "end_time": "2023-05-11T17:29:28.268311",
     "exception": false,
     "start_time": "2023-05-11T17:29:28.248247",
     "status": "completed"
    },
    "tags": []
   },
   "source": [
    "# Handling catagorical variable."
   ]
  },
  {
   "cell_type": "code",
   "execution_count": 24,
   "id": "196a0415",
   "metadata": {
    "execution": {
     "iopub.execute_input": "2023-05-11T17:29:28.312303Z",
     "iopub.status.busy": "2023-05-11T17:29:28.311745Z",
     "iopub.status.idle": "2023-05-11T17:29:28.333519Z",
     "shell.execute_reply": "2023-05-11T17:29:28.332321Z"
    },
    "id": "hU2JGOonBqeT",
    "outputId": "2c985798-92ee-45d2-fbc1-10808c1b73c0",
    "papermill": {
     "duration": 0.047396,
     "end_time": "2023-05-11T17:29:28.336212",
     "exception": false,
     "start_time": "2023-05-11T17:29:28.288816",
     "status": "completed"
    },
    "tags": []
   },
   "outputs": [
    {
     "data": {
      "text/html": [
       "<div>\n",
       "<style scoped>\n",
       "    .dataframe tbody tr th:only-of-type {\n",
       "        vertical-align: middle;\n",
       "    }\n",
       "\n",
       "    .dataframe tbody tr th {\n",
       "        vertical-align: top;\n",
       "    }\n",
       "\n",
       "    .dataframe thead th {\n",
       "        text-align: right;\n",
       "    }\n",
       "</style>\n",
       "<table border=\"1\" class=\"dataframe\">\n",
       "  <thead>\n",
       "    <tr style=\"text-align: right;\">\n",
       "      <th></th>\n",
       "      <th>Gender</th>\n",
       "      <th>Married</th>\n",
       "      <th>Dependents</th>\n",
       "      <th>Education</th>\n",
       "      <th>Self_Employed</th>\n",
       "      <th>ApplicantIncome</th>\n",
       "      <th>CoapplicantIncome</th>\n",
       "      <th>LoanAmount</th>\n",
       "      <th>Loan_Amount_Term</th>\n",
       "      <th>Credit_History</th>\n",
       "      <th>Property_Area</th>\n",
       "    </tr>\n",
       "  </thead>\n",
       "  <tbody>\n",
       "    <tr>\n",
       "      <th>0</th>\n",
       "      <td>Male</td>\n",
       "      <td>No</td>\n",
       "      <td>0</td>\n",
       "      <td>Graduate</td>\n",
       "      <td>No</td>\n",
       "      <td>5849</td>\n",
       "      <td>0.0</td>\n",
       "      <td>126.0</td>\n",
       "      <td>360.0</td>\n",
       "      <td>1.0</td>\n",
       "      <td>Urban</td>\n",
       "    </tr>\n",
       "    <tr>\n",
       "      <th>1</th>\n",
       "      <td>Male</td>\n",
       "      <td>Yes</td>\n",
       "      <td>1</td>\n",
       "      <td>Graduate</td>\n",
       "      <td>No</td>\n",
       "      <td>4583</td>\n",
       "      <td>1508.0</td>\n",
       "      <td>128.0</td>\n",
       "      <td>360.0</td>\n",
       "      <td>1.0</td>\n",
       "      <td>Rural</td>\n",
       "    </tr>\n",
       "    <tr>\n",
       "      <th>2</th>\n",
       "      <td>Male</td>\n",
       "      <td>Yes</td>\n",
       "      <td>0</td>\n",
       "      <td>Graduate</td>\n",
       "      <td>Yes</td>\n",
       "      <td>3000</td>\n",
       "      <td>0.0</td>\n",
       "      <td>66.0</td>\n",
       "      <td>360.0</td>\n",
       "      <td>1.0</td>\n",
       "      <td>Urban</td>\n",
       "    </tr>\n",
       "    <tr>\n",
       "      <th>3</th>\n",
       "      <td>Male</td>\n",
       "      <td>Yes</td>\n",
       "      <td>0</td>\n",
       "      <td>Not Graduate</td>\n",
       "      <td>No</td>\n",
       "      <td>2583</td>\n",
       "      <td>2358.0</td>\n",
       "      <td>120.0</td>\n",
       "      <td>360.0</td>\n",
       "      <td>1.0</td>\n",
       "      <td>Urban</td>\n",
       "    </tr>\n",
       "    <tr>\n",
       "      <th>4</th>\n",
       "      <td>Male</td>\n",
       "      <td>No</td>\n",
       "      <td>0</td>\n",
       "      <td>Graduate</td>\n",
       "      <td>No</td>\n",
       "      <td>6000</td>\n",
       "      <td>0.0</td>\n",
       "      <td>141.0</td>\n",
       "      <td>360.0</td>\n",
       "      <td>1.0</td>\n",
       "      <td>Urban</td>\n",
       "    </tr>\n",
       "  </tbody>\n",
       "</table>\n",
       "</div>"
      ],
      "text/plain": [
       "  Gender Married Dependents     Education Self_Employed  ApplicantIncome  \\\n",
       "0   Male      No          0      Graduate            No             5849   \n",
       "1   Male     Yes          1      Graduate            No             4583   \n",
       "2   Male     Yes          0      Graduate           Yes             3000   \n",
       "3   Male     Yes          0  Not Graduate            No             2583   \n",
       "4   Male      No          0      Graduate            No             6000   \n",
       "\n",
       "   CoapplicantIncome  LoanAmount  Loan_Amount_Term  Credit_History  \\\n",
       "0                0.0       126.0             360.0             1.0   \n",
       "1             1508.0       128.0             360.0             1.0   \n",
       "2                0.0        66.0             360.0             1.0   \n",
       "3             2358.0       120.0             360.0             1.0   \n",
       "4                0.0       141.0             360.0             1.0   \n",
       "\n",
       "  Property_Area  \n",
       "0         Urban  \n",
       "1         Rural  \n",
       "2         Urban  \n",
       "3         Urban  \n",
       "4         Urban  "
      ]
     },
     "execution_count": 24,
     "metadata": {},
     "output_type": "execute_result"
    }
   ],
   "source": [
    "X.head()"
   ]
  },
  {
   "cell_type": "code",
   "execution_count": 25,
   "id": "279837dd",
   "metadata": {
    "execution": {
     "iopub.execute_input": "2023-05-11T17:29:28.380203Z",
     "iopub.status.busy": "2023-05-11T17:29:28.379668Z",
     "iopub.status.idle": "2023-05-11T17:29:28.392552Z",
     "shell.execute_reply": "2023-05-11T17:29:28.391313Z"
    },
    "id": "nOmZj7bi_Nzp",
    "outputId": "f12b818b-9638-41a1-9a64-4080e712607a",
    "papermill": {
     "duration": 0.03837,
     "end_time": "2023-05-11T17:29:28.395603",
     "exception": false,
     "start_time": "2023-05-11T17:29:28.357233",
     "status": "completed"
    },
    "tags": []
   },
   "outputs": [
    {
     "data": {
      "text/plain": [
       "[{'Gender': 2},\n",
       " {'Married': 2},\n",
       " {'Dependents': 4},\n",
       " {'Education': 2},\n",
       " {'Self_Employed': 2},\n",
       " {'Property_Area': 3}]"
      ]
     },
     "execution_count": 25,
     "metadata": {},
     "output_type": "execute_result"
    }
   ],
   "source": [
    "cat_col = [{col : X[col].nunique()} for col in X.columns if X[col].dtypes == 'object']\n",
    "cat_col"
   ]
  },
  {
   "cell_type": "code",
   "execution_count": 26,
   "id": "b6af053b",
   "metadata": {
    "execution": {
     "iopub.execute_input": "2023-05-11T17:29:28.441421Z",
     "iopub.status.busy": "2023-05-11T17:29:28.440865Z",
     "iopub.status.idle": "2023-05-11T17:29:28.458814Z",
     "shell.execute_reply": "2023-05-11T17:29:28.457166Z"
    },
    "id": "g5ajko3ywZtI",
    "papermill": {
     "duration": 0.044723,
     "end_time": "2023-05-11T17:29:28.462438",
     "exception": false,
     "start_time": "2023-05-11T17:29:28.417715",
     "status": "completed"
    },
    "tags": []
   },
   "outputs": [],
   "source": [
    "X = pd.get_dummies(X, drop_first=True)"
   ]
  },
  {
   "cell_type": "code",
   "execution_count": 27,
   "id": "783daddb",
   "metadata": {
    "execution": {
     "iopub.execute_input": "2023-05-11T17:29:28.508691Z",
     "iopub.status.busy": "2023-05-11T17:29:28.508112Z",
     "iopub.status.idle": "2023-05-11T17:29:28.517015Z",
     "shell.execute_reply": "2023-05-11T17:29:28.515644Z"
    },
    "id": "elGAuYKC-9tM",
    "outputId": "a96a1f9c-62a6-4121-a6bc-e51f915fd7ba",
    "papermill": {
     "duration": 0.035746,
     "end_time": "2023-05-11T17:29:28.520137",
     "exception": false,
     "start_time": "2023-05-11T17:29:28.484391",
     "status": "completed"
    },
    "tags": []
   },
   "outputs": [
    {
     "data": {
      "text/plain": [
       "(975, 14)"
      ]
     },
     "execution_count": 27,
     "metadata": {},
     "output_type": "execute_result"
    }
   ],
   "source": [
    "X.shape"
   ]
  },
  {
   "cell_type": "code",
   "execution_count": 28,
   "id": "c1c7c80c",
   "metadata": {
    "execution": {
     "iopub.execute_input": "2023-05-11T17:29:28.568111Z",
     "iopub.status.busy": "2023-05-11T17:29:28.567399Z",
     "iopub.status.idle": "2023-05-11T17:29:28.592341Z",
     "shell.execute_reply": "2023-05-11T17:29:28.590765Z"
    },
    "id": "XiamuRlf-_D2",
    "outputId": "90e8279e-99d0-4876-b1b1-9ba17ce3745c",
    "papermill": {
     "duration": 0.052993,
     "end_time": "2023-05-11T17:29:28.595491",
     "exception": false,
     "start_time": "2023-05-11T17:29:28.542498",
     "status": "completed"
    },
    "tags": []
   },
   "outputs": [
    {
     "data": {
      "text/html": [
       "<div>\n",
       "<style scoped>\n",
       "    .dataframe tbody tr th:only-of-type {\n",
       "        vertical-align: middle;\n",
       "    }\n",
       "\n",
       "    .dataframe tbody tr th {\n",
       "        vertical-align: top;\n",
       "    }\n",
       "\n",
       "    .dataframe thead th {\n",
       "        text-align: right;\n",
       "    }\n",
       "</style>\n",
       "<table border=\"1\" class=\"dataframe\">\n",
       "  <thead>\n",
       "    <tr style=\"text-align: right;\">\n",
       "      <th></th>\n",
       "      <th>ApplicantIncome</th>\n",
       "      <th>CoapplicantIncome</th>\n",
       "      <th>LoanAmount</th>\n",
       "      <th>Loan_Amount_Term</th>\n",
       "      <th>Credit_History</th>\n",
       "      <th>Gender_Male</th>\n",
       "      <th>Married_Yes</th>\n",
       "      <th>Dependents_1</th>\n",
       "      <th>Dependents_2</th>\n",
       "      <th>Dependents_3+</th>\n",
       "      <th>Education_Not Graduate</th>\n",
       "      <th>Self_Employed_Yes</th>\n",
       "      <th>Property_Area_Semiurban</th>\n",
       "      <th>Property_Area_Urban</th>\n",
       "    </tr>\n",
       "  </thead>\n",
       "  <tbody>\n",
       "    <tr>\n",
       "      <th>0</th>\n",
       "      <td>5849</td>\n",
       "      <td>0.0</td>\n",
       "      <td>126.0</td>\n",
       "      <td>360.0</td>\n",
       "      <td>1.0</td>\n",
       "      <td>1</td>\n",
       "      <td>0</td>\n",
       "      <td>0</td>\n",
       "      <td>0</td>\n",
       "      <td>0</td>\n",
       "      <td>0</td>\n",
       "      <td>0</td>\n",
       "      <td>0</td>\n",
       "      <td>1</td>\n",
       "    </tr>\n",
       "    <tr>\n",
       "      <th>1</th>\n",
       "      <td>4583</td>\n",
       "      <td>1508.0</td>\n",
       "      <td>128.0</td>\n",
       "      <td>360.0</td>\n",
       "      <td>1.0</td>\n",
       "      <td>1</td>\n",
       "      <td>1</td>\n",
       "      <td>1</td>\n",
       "      <td>0</td>\n",
       "      <td>0</td>\n",
       "      <td>0</td>\n",
       "      <td>0</td>\n",
       "      <td>0</td>\n",
       "      <td>0</td>\n",
       "    </tr>\n",
       "    <tr>\n",
       "      <th>2</th>\n",
       "      <td>3000</td>\n",
       "      <td>0.0</td>\n",
       "      <td>66.0</td>\n",
       "      <td>360.0</td>\n",
       "      <td>1.0</td>\n",
       "      <td>1</td>\n",
       "      <td>1</td>\n",
       "      <td>0</td>\n",
       "      <td>0</td>\n",
       "      <td>0</td>\n",
       "      <td>0</td>\n",
       "      <td>1</td>\n",
       "      <td>0</td>\n",
       "      <td>1</td>\n",
       "    </tr>\n",
       "    <tr>\n",
       "      <th>3</th>\n",
       "      <td>2583</td>\n",
       "      <td>2358.0</td>\n",
       "      <td>120.0</td>\n",
       "      <td>360.0</td>\n",
       "      <td>1.0</td>\n",
       "      <td>1</td>\n",
       "      <td>1</td>\n",
       "      <td>0</td>\n",
       "      <td>0</td>\n",
       "      <td>0</td>\n",
       "      <td>1</td>\n",
       "      <td>0</td>\n",
       "      <td>0</td>\n",
       "      <td>1</td>\n",
       "    </tr>\n",
       "    <tr>\n",
       "      <th>4</th>\n",
       "      <td>6000</td>\n",
       "      <td>0.0</td>\n",
       "      <td>141.0</td>\n",
       "      <td>360.0</td>\n",
       "      <td>1.0</td>\n",
       "      <td>1</td>\n",
       "      <td>0</td>\n",
       "      <td>0</td>\n",
       "      <td>0</td>\n",
       "      <td>0</td>\n",
       "      <td>0</td>\n",
       "      <td>0</td>\n",
       "      <td>0</td>\n",
       "      <td>1</td>\n",
       "    </tr>\n",
       "  </tbody>\n",
       "</table>\n",
       "</div>"
      ],
      "text/plain": [
       "   ApplicantIncome  CoapplicantIncome  LoanAmount  Loan_Amount_Term  \\\n",
       "0             5849                0.0       126.0             360.0   \n",
       "1             4583             1508.0       128.0             360.0   \n",
       "2             3000                0.0        66.0             360.0   \n",
       "3             2583             2358.0       120.0             360.0   \n",
       "4             6000                0.0       141.0             360.0   \n",
       "\n",
       "   Credit_History  Gender_Male  Married_Yes  Dependents_1  Dependents_2  \\\n",
       "0             1.0            1            0             0             0   \n",
       "1             1.0            1            1             1             0   \n",
       "2             1.0            1            1             0             0   \n",
       "3             1.0            1            1             0             0   \n",
       "4             1.0            1            0             0             0   \n",
       "\n",
       "   Dependents_3+  Education_Not Graduate  Self_Employed_Yes  \\\n",
       "0              0                       0                  0   \n",
       "1              0                       0                  0   \n",
       "2              0                       0                  1   \n",
       "3              0                       1                  0   \n",
       "4              0                       0                  0   \n",
       "\n",
       "   Property_Area_Semiurban  Property_Area_Urban  \n",
       "0                        0                    1  \n",
       "1                        0                    0  \n",
       "2                        0                    1  \n",
       "3                        0                    1  \n",
       "4                        0                    1  "
      ]
     },
     "execution_count": 28,
     "metadata": {},
     "output_type": "execute_result"
    }
   ],
   "source": [
    "X.head()"
   ]
  },
  {
   "cell_type": "code",
   "execution_count": 29,
   "id": "c5a3eb02",
   "metadata": {
    "execution": {
     "iopub.execute_input": "2023-05-11T17:29:28.641751Z",
     "iopub.status.busy": "2023-05-11T17:29:28.640492Z",
     "iopub.status.idle": "2023-05-11T17:29:28.647033Z",
     "shell.execute_reply": "2023-05-11T17:29:28.645645Z"
    },
    "id": "Ur7W1EqCi8uV",
    "papermill": {
     "duration": 0.032226,
     "end_time": "2023-05-11T17:29:28.649421",
     "exception": false,
     "start_time": "2023-05-11T17:29:28.617195",
     "status": "completed"
    },
    "tags": []
   },
   "outputs": [],
   "source": [
    "Columns = X.columns"
   ]
  },
  {
   "cell_type": "code",
   "execution_count": 30,
   "id": "97003131",
   "metadata": {
    "execution": {
     "iopub.execute_input": "2023-05-11T17:29:28.695277Z",
     "iopub.status.busy": "2023-05-11T17:29:28.693891Z",
     "iopub.status.idle": "2023-05-11T17:29:28.704460Z",
     "shell.execute_reply": "2023-05-11T17:29:28.702989Z"
    },
    "id": "UcVIpCI7ig87",
    "papermill": {
     "duration": 0.03663,
     "end_time": "2023-05-11T17:29:28.707589",
     "exception": false,
     "start_time": "2023-05-11T17:29:28.670959",
     "status": "completed"
    },
    "tags": []
   },
   "outputs": [],
   "source": [
    "X = X.iloc[:, :].values"
   ]
  },
  {
   "cell_type": "code",
   "execution_count": 31,
   "id": "c59085bc",
   "metadata": {
    "execution": {
     "iopub.execute_input": "2023-05-11T17:29:28.753466Z",
     "iopub.status.busy": "2023-05-11T17:29:28.752953Z",
     "iopub.status.idle": "2023-05-11T17:29:28.761638Z",
     "shell.execute_reply": "2023-05-11T17:29:28.760510Z"
    },
    "id": "GJLvJqX8dObW",
    "papermill": {
     "duration": 0.034774,
     "end_time": "2023-05-11T17:29:28.764234",
     "exception": false,
     "start_time": "2023-05-11T17:29:28.729460",
     "status": "completed"
    },
    "tags": []
   },
   "outputs": [],
   "source": [
    "scaler = StandardScaler()\n",
    "scaler.fit(X[:, 0:4])\n",
    "X[:, 0:4]=scaler.transform(X[:, 0:4])\n",
    "X = pd.DataFrame(X, columns=Columns)"
   ]
  },
  {
   "cell_type": "code",
   "execution_count": 32,
   "id": "8d358978",
   "metadata": {
    "execution": {
     "iopub.execute_input": "2023-05-11T17:29:28.809343Z",
     "iopub.status.busy": "2023-05-11T17:29:28.808791Z",
     "iopub.status.idle": "2023-05-11T17:29:28.816339Z",
     "shell.execute_reply": "2023-05-11T17:29:28.815283Z"
    },
    "id": "FlNBdInkEgk3",
    "papermill": {
     "duration": 0.033512,
     "end_time": "2023-05-11T17:29:28.819216",
     "exception": false,
     "start_time": "2023-05-11T17:29:28.785704",
     "status": "completed"
    },
    "tags": []
   },
   "outputs": [],
   "source": [
    "y = pd.get_dummies(y, drop_first=True)"
   ]
  },
  {
   "cell_type": "code",
   "execution_count": 33,
   "id": "bc228700",
   "metadata": {
    "execution": {
     "iopub.execute_input": "2023-05-11T17:29:28.864813Z",
     "iopub.status.busy": "2023-05-11T17:29:28.864272Z",
     "iopub.status.idle": "2023-05-11T17:29:28.877708Z",
     "shell.execute_reply": "2023-05-11T17:29:28.876504Z"
    },
    "id": "ZcRGZ1Ejb64U",
    "outputId": "100173f7-ed5a-4380-a154-da590fb9404a",
    "papermill": {
     "duration": 0.03919,
     "end_time": "2023-05-11T17:29:28.880346",
     "exception": false,
     "start_time": "2023-05-11T17:29:28.841156",
     "status": "completed"
    },
    "tags": []
   },
   "outputs": [
    {
     "data": {
      "text/html": [
       "<div>\n",
       "<style scoped>\n",
       "    .dataframe tbody tr th:only-of-type {\n",
       "        vertical-align: middle;\n",
       "    }\n",
       "\n",
       "    .dataframe tbody tr th {\n",
       "        vertical-align: top;\n",
       "    }\n",
       "\n",
       "    .dataframe thead th {\n",
       "        text-align: right;\n",
       "    }\n",
       "</style>\n",
       "<table border=\"1\" class=\"dataframe\">\n",
       "  <thead>\n",
       "    <tr style=\"text-align: right;\">\n",
       "      <th></th>\n",
       "      <th>Y</th>\n",
       "    </tr>\n",
       "  </thead>\n",
       "  <tbody>\n",
       "    <tr>\n",
       "      <th>0</th>\n",
       "      <td>1</td>\n",
       "    </tr>\n",
       "    <tr>\n",
       "      <th>1</th>\n",
       "      <td>0</td>\n",
       "    </tr>\n",
       "    <tr>\n",
       "      <th>2</th>\n",
       "      <td>1</td>\n",
       "    </tr>\n",
       "    <tr>\n",
       "      <th>3</th>\n",
       "      <td>1</td>\n",
       "    </tr>\n",
       "    <tr>\n",
       "      <th>4</th>\n",
       "      <td>1</td>\n",
       "    </tr>\n",
       "    <tr>\n",
       "      <th>...</th>\n",
       "      <td>...</td>\n",
       "    </tr>\n",
       "    <tr>\n",
       "      <th>609</th>\n",
       "      <td>1</td>\n",
       "    </tr>\n",
       "    <tr>\n",
       "      <th>610</th>\n",
       "      <td>1</td>\n",
       "    </tr>\n",
       "    <tr>\n",
       "      <th>611</th>\n",
       "      <td>1</td>\n",
       "    </tr>\n",
       "    <tr>\n",
       "      <th>612</th>\n",
       "      <td>1</td>\n",
       "    </tr>\n",
       "    <tr>\n",
       "      <th>613</th>\n",
       "      <td>0</td>\n",
       "    </tr>\n",
       "  </tbody>\n",
       "</table>\n",
       "<p>611 rows × 1 columns</p>\n",
       "</div>"
      ],
      "text/plain": [
       "     Y\n",
       "0    1\n",
       "1    0\n",
       "2    1\n",
       "3    1\n",
       "4    1\n",
       "..  ..\n",
       "609  1\n",
       "610  1\n",
       "611  1\n",
       "612  1\n",
       "613  0\n",
       "\n",
       "[611 rows x 1 columns]"
      ]
     },
     "execution_count": 33,
     "metadata": {},
     "output_type": "execute_result"
    }
   ],
   "source": [
    "y"
   ]
  },
  {
   "cell_type": "code",
   "execution_count": 34,
   "id": "a62a1ecb",
   "metadata": {
    "execution": {
     "iopub.execute_input": "2023-05-11T17:29:28.926731Z",
     "iopub.status.busy": "2023-05-11T17:29:28.926137Z",
     "iopub.status.idle": "2023-05-11T17:29:28.935577Z",
     "shell.execute_reply": "2023-05-11T17:29:28.934130Z"
    },
    "id": "PR34D_Qvd0Bc",
    "outputId": "eb5aa064-955a-4f90-e4d2-1d5f451c15ab",
    "papermill": {
     "duration": 0.036692,
     "end_time": "2023-05-11T17:29:28.938655",
     "exception": false,
     "start_time": "2023-05-11T17:29:28.901963",
     "status": "completed"
    },
    "tags": []
   },
   "outputs": [
    {
     "data": {
      "text/plain": [
       "611"
      ]
     },
     "execution_count": 34,
     "metadata": {},
     "output_type": "execute_result"
    }
   ],
   "source": [
    "len(y)"
   ]
  },
  {
   "cell_type": "code",
   "execution_count": 35,
   "id": "f943e56f",
   "metadata": {
    "execution": {
     "iopub.execute_input": "2023-05-11T17:29:28.985553Z",
     "iopub.status.busy": "2023-05-11T17:29:28.985009Z",
     "iopub.status.idle": "2023-05-11T17:29:29.024399Z",
     "shell.execute_reply": "2023-05-11T17:29:29.023051Z"
    },
    "id": "kLzGUc7qeKsZ",
    "outputId": "7cdc1583-8a77-44bf-814f-dca6a58d421a",
    "papermill": {
     "duration": 0.066019,
     "end_time": "2023-05-11T17:29:29.027075",
     "exception": false,
     "start_time": "2023-05-11T17:29:28.961056",
     "status": "completed"
    },
    "tags": []
   },
   "outputs": [
    {
     "data": {
      "text/html": [
       "<div>\n",
       "<style scoped>\n",
       "    .dataframe tbody tr th:only-of-type {\n",
       "        vertical-align: middle;\n",
       "    }\n",
       "\n",
       "    .dataframe tbody tr th {\n",
       "        vertical-align: top;\n",
       "    }\n",
       "\n",
       "    .dataframe thead th {\n",
       "        text-align: right;\n",
       "    }\n",
       "</style>\n",
       "<table border=\"1\" class=\"dataframe\">\n",
       "  <thead>\n",
       "    <tr style=\"text-align: right;\">\n",
       "      <th></th>\n",
       "      <th>ApplicantIncome</th>\n",
       "      <th>CoapplicantIncome</th>\n",
       "      <th>LoanAmount</th>\n",
       "      <th>Loan_Amount_Term</th>\n",
       "      <th>Credit_History</th>\n",
       "      <th>Gender_Male</th>\n",
       "      <th>Married_Yes</th>\n",
       "      <th>Dependents_1</th>\n",
       "      <th>Dependents_2</th>\n",
       "      <th>Dependents_3+</th>\n",
       "      <th>Education_Not Graduate</th>\n",
       "      <th>Self_Employed_Yes</th>\n",
       "      <th>Property_Area_Semiurban</th>\n",
       "      <th>Property_Area_Urban</th>\n",
       "    </tr>\n",
       "  </thead>\n",
       "  <tbody>\n",
       "    <tr>\n",
       "      <th>0</th>\n",
       "      <td>0.145196</td>\n",
       "      <td>-0.590079</td>\n",
       "      <td>-0.203939</td>\n",
       "      <td>0.267619</td>\n",
       "      <td>1.0</td>\n",
       "      <td>1.0</td>\n",
       "      <td>0.0</td>\n",
       "      <td>0.0</td>\n",
       "      <td>0.0</td>\n",
       "      <td>0.0</td>\n",
       "      <td>0.0</td>\n",
       "      <td>0.0</td>\n",
       "      <td>0.0</td>\n",
       "      <td>1.0</td>\n",
       "    </tr>\n",
       "    <tr>\n",
       "      <th>1</th>\n",
       "      <td>-0.092520</td>\n",
       "      <td>-0.036404</td>\n",
       "      <td>-0.176092</td>\n",
       "      <td>0.267619</td>\n",
       "      <td>1.0</td>\n",
       "      <td>1.0</td>\n",
       "      <td>1.0</td>\n",
       "      <td>1.0</td>\n",
       "      <td>0.0</td>\n",
       "      <td>0.0</td>\n",
       "      <td>0.0</td>\n",
       "      <td>0.0</td>\n",
       "      <td>0.0</td>\n",
       "      <td>0.0</td>\n",
       "    </tr>\n",
       "    <tr>\n",
       "      <th>2</th>\n",
       "      <td>-0.389759</td>\n",
       "      <td>-0.590079</td>\n",
       "      <td>-1.039345</td>\n",
       "      <td>0.267619</td>\n",
       "      <td>1.0</td>\n",
       "      <td>1.0</td>\n",
       "      <td>1.0</td>\n",
       "      <td>0.0</td>\n",
       "      <td>0.0</td>\n",
       "      <td>0.0</td>\n",
       "      <td>0.0</td>\n",
       "      <td>1.0</td>\n",
       "      <td>0.0</td>\n",
       "      <td>1.0</td>\n",
       "    </tr>\n",
       "    <tr>\n",
       "      <th>3</th>\n",
       "      <td>-0.468058</td>\n",
       "      <td>0.275681</td>\n",
       "      <td>-0.287480</td>\n",
       "      <td>0.267619</td>\n",
       "      <td>1.0</td>\n",
       "      <td>1.0</td>\n",
       "      <td>1.0</td>\n",
       "      <td>0.0</td>\n",
       "      <td>0.0</td>\n",
       "      <td>0.0</td>\n",
       "      <td>1.0</td>\n",
       "      <td>0.0</td>\n",
       "      <td>0.0</td>\n",
       "      <td>1.0</td>\n",
       "    </tr>\n",
       "    <tr>\n",
       "      <th>4</th>\n",
       "      <td>0.173550</td>\n",
       "      <td>-0.590079</td>\n",
       "      <td>0.004912</td>\n",
       "      <td>0.267619</td>\n",
       "      <td>1.0</td>\n",
       "      <td>1.0</td>\n",
       "      <td>0.0</td>\n",
       "      <td>0.0</td>\n",
       "      <td>0.0</td>\n",
       "      <td>0.0</td>\n",
       "      <td>0.0</td>\n",
       "      <td>0.0</td>\n",
       "      <td>0.0</td>\n",
       "      <td>1.0</td>\n",
       "    </tr>\n",
       "    <tr>\n",
       "      <th>...</th>\n",
       "      <td>...</td>\n",
       "      <td>...</td>\n",
       "      <td>...</td>\n",
       "      <td>...</td>\n",
       "      <td>...</td>\n",
       "      <td>...</td>\n",
       "      <td>...</td>\n",
       "      <td>...</td>\n",
       "      <td>...</td>\n",
       "      <td>...</td>\n",
       "      <td>...</td>\n",
       "      <td>...</td>\n",
       "      <td>...</td>\n",
       "      <td>...</td>\n",
       "    </tr>\n",
       "    <tr>\n",
       "      <th>606</th>\n",
       "      <td>-0.408536</td>\n",
       "      <td>-0.590079</td>\n",
       "      <td>-0.969727</td>\n",
       "      <td>0.267619</td>\n",
       "      <td>1.0</td>\n",
       "      <td>0.0</td>\n",
       "      <td>0.0</td>\n",
       "      <td>0.0</td>\n",
       "      <td>0.0</td>\n",
       "      <td>0.0</td>\n",
       "      <td>0.0</td>\n",
       "      <td>0.0</td>\n",
       "      <td>0.0</td>\n",
       "      <td>0.0</td>\n",
       "    </tr>\n",
       "    <tr>\n",
       "      <th>607</th>\n",
       "      <td>-0.182086</td>\n",
       "      <td>-0.590079</td>\n",
       "      <td>-1.401354</td>\n",
       "      <td>-2.527380</td>\n",
       "      <td>1.0</td>\n",
       "      <td>1.0</td>\n",
       "      <td>1.0</td>\n",
       "      <td>0.0</td>\n",
       "      <td>0.0</td>\n",
       "      <td>1.0</td>\n",
       "      <td>0.0</td>\n",
       "      <td>0.0</td>\n",
       "      <td>0.0</td>\n",
       "      <td>0.0</td>\n",
       "    </tr>\n",
       "    <tr>\n",
       "      <th>608</th>\n",
       "      <td>0.562608</td>\n",
       "      <td>-0.501961</td>\n",
       "      <td>1.564336</td>\n",
       "      <td>0.267619</td>\n",
       "      <td>1.0</td>\n",
       "      <td>1.0</td>\n",
       "      <td>1.0</td>\n",
       "      <td>1.0</td>\n",
       "      <td>0.0</td>\n",
       "      <td>0.0</td>\n",
       "      <td>0.0</td>\n",
       "      <td>0.0</td>\n",
       "      <td>0.0</td>\n",
       "      <td>1.0</td>\n",
       "    </tr>\n",
       "    <tr>\n",
       "      <th>609</th>\n",
       "      <td>0.470789</td>\n",
       "      <td>-0.590079</td>\n",
       "      <td>0.645390</td>\n",
       "      <td>0.267619</td>\n",
       "      <td>1.0</td>\n",
       "      <td>1.0</td>\n",
       "      <td>1.0</td>\n",
       "      <td>0.0</td>\n",
       "      <td>1.0</td>\n",
       "      <td>0.0</td>\n",
       "      <td>0.0</td>\n",
       "      <td>0.0</td>\n",
       "      <td>0.0</td>\n",
       "      <td>1.0</td>\n",
       "    </tr>\n",
       "    <tr>\n",
       "      <th>610</th>\n",
       "      <td>-0.092520</td>\n",
       "      <td>-0.590079</td>\n",
       "      <td>-0.106475</td>\n",
       "      <td>0.267619</td>\n",
       "      <td>0.0</td>\n",
       "      <td>0.0</td>\n",
       "      <td>0.0</td>\n",
       "      <td>0.0</td>\n",
       "      <td>0.0</td>\n",
       "      <td>0.0</td>\n",
       "      <td>0.0</td>\n",
       "      <td>1.0</td>\n",
       "      <td>1.0</td>\n",
       "      <td>0.0</td>\n",
       "    </tr>\n",
       "  </tbody>\n",
       "</table>\n",
       "<p>611 rows × 14 columns</p>\n",
       "</div>"
      ],
      "text/plain": [
       "     ApplicantIncome  CoapplicantIncome  LoanAmount  Loan_Amount_Term  \\\n",
       "0           0.145196          -0.590079   -0.203939          0.267619   \n",
       "1          -0.092520          -0.036404   -0.176092          0.267619   \n",
       "2          -0.389759          -0.590079   -1.039345          0.267619   \n",
       "3          -0.468058           0.275681   -0.287480          0.267619   \n",
       "4           0.173550          -0.590079    0.004912          0.267619   \n",
       "..               ...                ...         ...               ...   \n",
       "606        -0.408536          -0.590079   -0.969727          0.267619   \n",
       "607        -0.182086          -0.590079   -1.401354         -2.527380   \n",
       "608         0.562608          -0.501961    1.564336          0.267619   \n",
       "609         0.470789          -0.590079    0.645390          0.267619   \n",
       "610        -0.092520          -0.590079   -0.106475          0.267619   \n",
       "\n",
       "     Credit_History  Gender_Male  Married_Yes  Dependents_1  Dependents_2  \\\n",
       "0               1.0          1.0          0.0           0.0           0.0   \n",
       "1               1.0          1.0          1.0           1.0           0.0   \n",
       "2               1.0          1.0          1.0           0.0           0.0   \n",
       "3               1.0          1.0          1.0           0.0           0.0   \n",
       "4               1.0          1.0          0.0           0.0           0.0   \n",
       "..              ...          ...          ...           ...           ...   \n",
       "606             1.0          0.0          0.0           0.0           0.0   \n",
       "607             1.0          1.0          1.0           0.0           0.0   \n",
       "608             1.0          1.0          1.0           1.0           0.0   \n",
       "609             1.0          1.0          1.0           0.0           1.0   \n",
       "610             0.0          0.0          0.0           0.0           0.0   \n",
       "\n",
       "     Dependents_3+  Education_Not Graduate  Self_Employed_Yes  \\\n",
       "0              0.0                     0.0                0.0   \n",
       "1              0.0                     0.0                0.0   \n",
       "2              0.0                     0.0                1.0   \n",
       "3              0.0                     1.0                0.0   \n",
       "4              0.0                     0.0                0.0   \n",
       "..             ...                     ...                ...   \n",
       "606            0.0                     0.0                0.0   \n",
       "607            1.0                     0.0                0.0   \n",
       "608            0.0                     0.0                0.0   \n",
       "609            0.0                     0.0                0.0   \n",
       "610            0.0                     0.0                1.0   \n",
       "\n",
       "     Property_Area_Semiurban  Property_Area_Urban  \n",
       "0                        0.0                  1.0  \n",
       "1                        0.0                  0.0  \n",
       "2                        0.0                  1.0  \n",
       "3                        0.0                  1.0  \n",
       "4                        0.0                  1.0  \n",
       "..                       ...                  ...  \n",
       "606                      0.0                  0.0  \n",
       "607                      0.0                  0.0  \n",
       "608                      0.0                  1.0  \n",
       "609                      0.0                  1.0  \n",
       "610                      1.0                  0.0  \n",
       "\n",
       "[611 rows x 14 columns]"
      ]
     },
     "execution_count": 35,
     "metadata": {},
     "output_type": "execute_result"
    }
   ],
   "source": [
    "X1 = X.iloc[:len(y), :]\n",
    "X1"
   ]
  },
  {
   "cell_type": "code",
   "execution_count": 36,
   "id": "8501d143",
   "metadata": {
    "execution": {
     "iopub.execute_input": "2023-05-11T17:29:29.076259Z",
     "iopub.status.busy": "2023-05-11T17:29:29.074751Z",
     "iopub.status.idle": "2023-05-11T17:29:29.162975Z",
     "shell.execute_reply": "2023-05-11T17:29:29.161659Z"
    },
    "id": "6ERLMnSBeTfB",
    "papermill": {
     "duration": 0.116697,
     "end_time": "2023-05-11T17:29:29.166284",
     "exception": false,
     "start_time": "2023-05-11T17:29:29.049587",
     "status": "completed"
    },
    "tags": []
   },
   "outputs": [],
   "source": [
    "kf = KFold(n_splits=4)\n",
    "mae_train = []\n",
    "mae_test = []\n",
    "for train_index, test_index in kf.split(X1):\n",
    "    \n",
    "   X_train, X_test = X1.iloc[train_index], X1.iloc[test_index]\n",
    "   y_train, y_test = y.iloc[train_index], y.iloc[test_index]\n",
    "   model = LogisticRegression()\n",
    "   model.fit(X_train, y_train)\n",
    "   y_train_pred = model.predict(X_train)\n",
    "   y_test_pred = model.predict(X_test)\n",
    "   mae_train.append(mean_absolute_error(y_train, y_train_pred))\n",
    "   mae_test.append(mean_absolute_error(y_test, y_test_pred))"
   ]
  },
  {
   "cell_type": "code",
   "execution_count": 37,
   "id": "8b913307",
   "metadata": {
    "execution": {
     "iopub.execute_input": "2023-05-11T17:29:29.218469Z",
     "iopub.status.busy": "2023-05-11T17:29:29.217929Z",
     "iopub.status.idle": "2023-05-11T17:29:29.564596Z",
     "shell.execute_reply": "2023-05-11T17:29:29.562946Z"
    },
    "id": "77KmkAfqeeYK",
    "outputId": "113e712d-805c-446d-ca85-c4c446890793",
    "papermill": {
     "duration": 0.375753,
     "end_time": "2023-05-11T17:29:29.567379",
     "exception": false,
     "start_time": "2023-05-11T17:29:29.191626",
     "status": "completed"
    },
    "tags": []
   },
   "outputs": [
    {
     "data": {
      "image/png": "[encoded data removed]",
      "text/plain": [
       "<Figure size 640x480 with 1 Axes>"
      ]
     },
     "metadata": {},
     "output_type": "display_data"
    }
   ],
   "source": [
    "folds = range(1, kf.get_n_splits() + 1)\n",
    "plt.plot(folds, mae_train, 'o-', color='green', label='train')\n",
    "plt.plot(folds, mae_test, 'o-', color='red', label='test')\n",
    "plt.legend()\n",
    "plt.grid()\n",
    "plt.xlabel('Number of fold')\n",
    "plt.ylabel('Mean Absolute Error')\n",
    "plt.show()"
   ]
  },
  {
   "cell_type": "code",
   "execution_count": 38,
   "id": "8de85c7a",
   "metadata": {
    "execution": {
     "iopub.execute_input": "2023-05-11T17:29:29.616169Z",
     "iopub.status.busy": "2023-05-11T17:29:29.615624Z",
     "iopub.status.idle": "2023-05-11T17:29:29.623652Z",
     "shell.execute_reply": "2023-05-11T17:29:29.622245Z"
    },
    "id": "SJ8JaI2z8GKz",
    "papermill": {
     "duration": 0.035561,
     "end_time": "2023-05-11T17:29:29.626293",
     "exception": false,
     "start_time": "2023-05-11T17:29:29.590732",
     "status": "completed"
    },
    "tags": []
   },
   "outputs": [],
   "source": [
    "n_folds = 5\n",
    "\n",
    "\n",
    "def getRMSLE(model):\n",
    "    # Set KFold to shuffle data before the split\n",
    "    kf = KFold(n_folds, shuffle=True, random_state=42)\n",
    "\n",
    "    # Get RMSLE score\n",
    "    rmse = np.sqrt(-cross_val_score(\n",
    "        model, X1, y, scoring=\"neg_mean_squared_error\", cv=kf))\n",
    "\n",
    "    return rmse.mean()"
   ]
  },
  {
   "cell_type": "code",
   "execution_count": 39,
   "id": "0ced0074",
   "metadata": {
    "execution": {
     "iopub.execute_input": "2023-05-11T17:29:29.675049Z",
     "iopub.status.busy": "2023-05-11T17:29:29.674537Z",
     "iopub.status.idle": "2023-05-11T17:29:29.759364Z",
     "shell.execute_reply": "2023-05-11T17:29:29.757877Z"
    },
    "id": "jQmztRse8mCm",
    "outputId": "c933915e-0cae-4a72-a52b-8d4ea9e33c14",
    "papermill": {
     "duration": 0.112344,
     "end_time": "2023-05-11T17:29:29.762400",
     "exception": false,
     "start_time": "2023-05-11T17:29:29.650056",
     "status": "completed"
    },
    "tags": []
   },
   "outputs": [
    {
     "data": {
      "text/plain": [
       "0.43186403589389055"
      ]
     },
     "execution_count": 39,
     "metadata": {},
     "output_type": "execute_result"
    }
   ],
   "source": [
    "logistic = LogisticRegression()\n",
    "getRMSLE(logistic)"
   ]
  },
  {
   "cell_type": "code",
   "execution_count": 40,
   "id": "c39e8e9c",
   "metadata": {
    "execution": {
     "iopub.execute_input": "2023-05-11T17:29:29.811375Z",
     "iopub.status.busy": "2023-05-11T17:29:29.810899Z",
     "iopub.status.idle": "2023-05-11T17:29:30.153012Z",
     "shell.execute_reply": "2023-05-11T17:29:30.151632Z"
    },
    "id": "Y3keCPyk9KIr",
    "outputId": "95dd43c6-797e-4300-a9a5-9746b3e0ce4c",
    "papermill": {
     "duration": 0.370476,
     "end_time": "2023-05-11T17:29:30.156009",
     "exception": false,
     "start_time": "2023-05-11T17:29:29.785533",
     "status": "completed"
    },
    "tags": []
   },
   "outputs": [
    {
     "data": {
      "text/plain": [
       "0.5192927194960463"
      ]
     },
     "execution_count": 40,
     "metadata": {},
     "output_type": "execute_result"
    }
   ],
   "source": [
    "K = KNeighborsClassifier()\n",
    "getRMSLE(K)"
   ]
  }
 ],
 "metadata": {
  "kernelspec": {
   "display_name": "Python 3",
   "language": "python",
   "name": "python3"
  },
  "language_info": {
   "codemirror_mode": {
    "name": "ipython",
    "version": 3
   },
   "file_extension": ".py",
   "mimetype": "text/x-python",
   "name": "python",
   "nbconvert_exporter": "python",
   "pygments_lexer": "ipython3",
   "version": "3.10.10"
  },
  "papermill": {
   "default_parameters": {},
   "duration": 23.807152,
   "end_time": "2023-05-11T17:29:31.807938",
   "environment_variables": {},
   "exception": null,
   "input_path": "__notebook__.ipynb",
   "output_path": "__notebook__.ipynb",
   "parameters": {},
   "start_time": "2023-05-11T17:29:08.000786",
   "version": "2.4.0"
  }
 },
 "nbformat": 4,
 "nbformat_minor": 5
}
